{
 "cells": [
  {
   "cell_type": "markdown",
   "metadata": {},
   "source": [
    "1.1 Write a Python Program(with class concepts) to find the area of the triangle using the below \n",
    "formula.\n",
    "area = (s*(s-a)*(s-b)*(s-c)) ** 0.5\n",
    "Function to take the length of the sides of triangle from user should be defined in the parent \n",
    "class and function to calculate the area should be defined in subclass."
   ]
  },
  {
   "cell_type": "code",
   "execution_count": 5,
   "metadata": {},
   "outputs": [
    {
     "name": "stdout",
     "output_type": "stream",
     "text": [
      "216.0\n"
     ]
    }
   ],
   "source": [
    "class AreaOfTriangle:\n",
    "    def __init__(self,a,b,c):\n",
    "        self.a=a\n",
    "        self.b=b\n",
    "        self.c=c\n",
    "        self.s = ((a+b+c)/2)\n",
    "    def area(self):\n",
    "        return ((self.s*(self.s-self.a)*(self.s-self.b)*(self.s-self.c))**0.5)\n",
    "    \n",
    "area = AreaOfTriangle(18,30,24)    \n",
    "print(area.area())\n"
   ]
  },
  {
   "cell_type": "raw",
   "metadata": {},
   "source": [
    "1.2 Write a function filter_long_words() that takes a list of words and an integer n and returns \n",
    "the list of words that are longer than n."
   ]
  },
  {
   "cell_type": "code",
   "execution_count": 14,
   "metadata": {},
   "outputs": [
    {
     "name": "stdout",
     "output_type": "stream",
     "text": [
      "['widget', 'Bahamas', 'John']\n"
     ]
    }
   ],
   "source": [
    "def filter_long_words(stringList,number):\n",
    "    newStringList=[]\n",
    "    for word in stringList:\n",
    "        if len(word)>number:\n",
    "            newStringList.append(word)\n",
    "        else:\n",
    "            continue\n",
    "    return newStringList\n",
    "stringList = ['widget','sky','Bahamas','John']\n",
    "print(filter_long_words(stringList,3))"
   ]
  },
  {
   "cell_type": "raw",
   "metadata": {},
   "source": [
    "2.1 Write a Python program using function concept that maps list of words into a list of integers \n",
    "representing the lengths of the corresponding words.\n",
    "Hint: If a list [ ab,cde,erty] is passed on to the python function output should come as [2,3,4]\n",
    "Here 2,3 and 4 are the lengths of the words in the list."
   ]
  },
  {
   "cell_type": "code",
   "execution_count": 16,
   "metadata": {},
   "outputs": [
    {
     "name": "stdout",
     "output_type": "stream",
     "text": [
      "[2, 3, 4]\n"
     ]
    }
   ],
   "source": [
    "def length_of_words(wordList):\n",
    "    numberList=[]\n",
    "    for word in wordList:\n",
    "        numberList.append(len(word))\n",
    "    return numberList\n",
    "\n",
    "wordList=['ab','cde','erty']\n",
    "print(length_of_words(wordList))"
   ]
  },
  {
   "cell_type": "raw",
   "metadata": {},
   "source": [
    "2.2 Write a Python function which takes a character (i.e. a string of length 1) and returns True if \n",
    "it is a vowel, False otherwise."
   ]
  },
  {
   "cell_type": "code",
   "execution_count": 19,
   "metadata": {},
   "outputs": [
    {
     "name": "stdout",
     "output_type": "stream",
     "text": [
      "True\n",
      "True\n",
      "True\n",
      "False\n",
      "False\n"
     ]
    }
   ],
   "source": [
    "def vowel(character):\n",
    "    return True if character in ['a','e','i','o','u'] else False\n",
    "print(vowel('a'))\n",
    "print(vowel('e'))\n",
    "print(vowel('i'))\n",
    "print(vowel('b'))\n",
    "print(vowel('c'))"
   ]
  }
 ],
 "metadata": {
  "kernelspec": {
   "display_name": "Python 3",
   "language": "python",
   "name": "python3"
  },
  "language_info": {
   "codemirror_mode": {
    "name": "ipython",
    "version": 3
   },
   "file_extension": ".py",
   "mimetype": "text/x-python",
   "name": "python",
   "nbconvert_exporter": "python",
   "pygments_lexer": "ipython3",
   "version": "3.7.6"
  }
 },
 "nbformat": 4,
 "nbformat_minor": 4
}

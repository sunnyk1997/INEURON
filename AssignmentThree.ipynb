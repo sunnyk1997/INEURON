{
 "cells": [
  {
   "cell_type": "markdown",
   "metadata": {},
   "source": [
    "1.1 Write a Python Program to implement your own myreduce() function which works exactly\n",
    "like Python's built-in function reduce()"
   ]
  },
  {
   "cell_type": "code",
   "execution_count": 46,
   "metadata": {},
   "outputs": [
    {
     "name": "stdout",
     "output_type": "stream",
     "text": [
      "Sum of elements in a given list :10\n",
      "Sum of elements in a given list :15\n",
      "maximum value among the given values :30\n"
     ]
    }
   ],
   "source": [
    "def my_reduce(function,sequence):\n",
    "    \n",
    "    '''\n",
    "    Implementing my own reduce function my_reduce() which works as python's reduce()\n",
    "    '''\n",
    "    #Allocating the first value of the given list in a variable 'firstItem'\n",
    "    \n",
    "    firstItem = sequence[0]\n",
    "    \n",
    "#     Iterating over the given list from the second element till the last element and applying the function\n",
    "    \n",
    "    for item in sequence[1:]:\n",
    "        firstItem = function(firstItem,item)\n",
    "        \n",
    "    #returning the result that is stores in the variable firstItem\n",
    "    \n",
    "    return firstItem\n",
    "\n",
    "#Printing Sum of elements in a list using my_reduce function\n",
    "\n",
    "print(\"Sum of elements in a given list :\"+str(my_reduce(lambda a,b:a+b,[1,2,3,4])))\n",
    "\n",
    "#Test function for adding all elements in a list    \n",
    "\n",
    "def my_sum(a,b):\n",
    "    return a+b\n",
    "\n",
    "# test case for my_sum function\n",
    "print(\"Sum of elements in a given list :\"+str(my_reduce(my_sum,[4,5,6])))\n",
    "\n",
    "#Printing the maximum value among the given values\n",
    "print(\"maximum value among the given values :\"+str(my_reduce(lambda a,b: a if (a > b) else b, [10,20,30])))"
   ]
  },
  {
   "cell_type": "raw",
   "metadata": {},
   "source": [
    "1.2 Write a Python program to implement your own myfilter() function which works exactly\n",
    "like Python's built-in function filter()"
   ]
  },
  {
   "cell_type": "code",
   "execution_count": 48,
   "metadata": {},
   "outputs": [
    {
     "name": "stdout",
     "output_type": "stream",
     "text": [
      "[2, 4, 6, 8, 10]\n"
     ]
    }
   ],
   "source": [
    "def my_filter(function,sequence):\n",
    "    \n",
    "    '''\n",
    "    Implementing my own reduce function my_filter() which works as python's filter()\n",
    "    '''\n",
    "    \n",
    "     # Creating an empty list and store it in a variable result\n",
    "    result=[]\n",
    "    \n",
    "    #Iterating over the given list \n",
    "    \n",
    "    for item in sequence:\n",
    "        #conditonal check for the item\n",
    "        if function(item):\n",
    "            result.append(item)\n",
    "        #returning the result\n",
    "    return result\n",
    "\n",
    "# Printing list of even numbers in a given range \n",
    "print(my_filter(lambda a: a%2==0,range(2,11)))\n",
    "\n"
   ]
  },
  {
   "cell_type": "markdown",
   "metadata": {},
   "source": [
    "2. Implement List comprehensions to produce the following lists.\n",
    "\n",
    "Write List comprehensions to produce the following Lists\n",
    "\n",
    "['x', 'xx', 'xxx', 'xxxx', 'y', 'yy', 'yyy', 'yyyy', 'z', 'zz', 'zzz', 'zzzz']\n",
    "\n",
    "['x', 'y', 'z', 'xx', 'yy', 'zz', 'xxx', 'yyy', 'zzz', 'xxxx', 'yyyy', 'zzzz']\n",
    "\n",
    "[[2], [3], [4], [3], [4], [5], [4], [5], [6]] \n",
    "[[2, 3, 4, 5], [3, 4, 5, 6], [4, 5, 6, 7], [5, 6, 7, 8]]\n",
    "[(1, 1), (2, 1), (3, 1), (1, 2), (2, 2), (3, 2), (1, 3), (2, 3), (3, 3)]"
   ]
  },
  {
   "cell_type": "code",
   "execution_count": 64,
   "metadata": {},
   "outputs": [
    {
     "data": {
      "text/plain": [
       "['x', 'xx', 'xxx', 'xxxx', 'y', 'yy', 'yyy', 'yyyy', 'z', 'zz', 'zzz', 'zzzz']"
      ]
     },
     "execution_count": 64,
     "metadata": {},
     "output_type": "execute_result"
    }
   ],
   "source": [
    "list1 = ['x','y','z']\n",
    "[i*j for i in list1 for j in range(1,5)]"
   ]
  },
  {
   "cell_type": "code",
   "execution_count": 66,
   "metadata": {},
   "outputs": [
    {
     "data": {
      "text/plain": [
       "['x', 'y', 'z', 'xx', 'yy', 'zz', 'xxx', 'yyy', 'zzz', 'xxxx', 'yyyy', 'zzzz']"
      ]
     },
     "execution_count": 66,
     "metadata": {},
     "output_type": "execute_result"
    }
   ],
   "source": [
    "[i*j for j in range(1,5) for i in list1]"
   ]
  },
  {
   "cell_type": "code",
   "execution_count": 69,
   "metadata": {},
   "outputs": [
    {
     "data": {
      "text/plain": [
       "[[2], [3], [4], [3], [4], [5], [4], [5], [6]]"
      ]
     },
     "execution_count": 69,
     "metadata": {},
     "output_type": "execute_result"
    }
   ],
   "source": [
    "[[i+j] for i in [0,1,2] for j in [2,3,4]]"
   ]
  },
  {
   "cell_type": "code",
   "execution_count": 73,
   "metadata": {},
   "outputs": [
    {
     "data": {
      "text/plain": [
       "[[2, 3, 4, 5], [3, 4, 5, 6], [4, 5, 6, 7], [5, 6, 7, 8]]"
      ]
     },
     "execution_count": 73,
     "metadata": {},
     "output_type": "execute_result"
    }
   ],
   "source": [
    "[[i+j for i in range(4)] for j in range(2,6)]"
   ]
  },
  {
   "cell_type": "code",
   "execution_count": 75,
   "metadata": {},
   "outputs": [
    {
     "data": {
      "text/plain": [
       "[(1, 1), (2, 1), (3, 1), (1, 2), (2, 2), (3, 2), (1, 3), (2, 3), (3, 3)]"
      ]
     },
     "execution_count": 75,
     "metadata": {},
     "output_type": "execute_result"
    }
   ],
   "source": [
    "[(j,i) for i in range(1,4) for j in range(1,4) ]"
   ]
  }
 ],
 "metadata": {
  "kernelspec": {
   "display_name": "Python 3",
   "language": "python",
   "name": "python3"
  },
  "language_info": {
   "codemirror_mode": {
    "name": "ipython",
    "version": 3
   },
   "file_extension": ".py",
   "mimetype": "text/x-python",
   "name": "python",
   "nbconvert_exporter": "python",
   "pygments_lexer": "ipython3",
   "version": "3.7.6"
  }
 },
 "nbformat": 4,
 "nbformat_minor": 4
}
